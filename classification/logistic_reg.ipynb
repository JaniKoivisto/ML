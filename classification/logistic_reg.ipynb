{
 "cells": [
  {
   "cell_type": "code",
   "execution_count": 28,
   "metadata": {},
   "outputs": [],
   "source": [
    "import numpy as np\n",
    "import pandas as pd\n",
    "import itertools\n",
    "from sklearn.preprocessing import StandardScaler\n",
    "from sklearn.model_selection import train_test_split\n",
    "from sklearn.linear_model import LogisticRegression\n",
    "from sklearn.metrics import accuracy_score\n",
    "from matplotlib import pyplot as plt\n",
    "from sklearn.metrics import confusion_matrix"
   ]
  },
  {
   "cell_type": "markdown",
   "metadata": {},
   "source": [
    "## Load and describe speedlimit data"
   ]
  },
  {
   "cell_type": "code",
   "execution_count": 19,
   "metadata": {},
   "outputs": [],
   "source": [
    "X_raw = pd.read_csv('dr_speedlimits.csv')\n",
    "X_raw = X_raw.fillna(0)\n",
    "X_raw = X_raw[X_raw.NOPEUSRAJOITUSARVO != 0]"
   ]
  },
  {
   "cell_type": "code",
   "execution_count": 20,
   "metadata": {
    "scrolled": true
   },
   "outputs": [
    {
     "data": {
      "text/html": [
       "<div>\n",
       "<style scoped>\n",
       "    .dataframe tbody tr th:only-of-type {\n",
       "        vertical-align: middle;\n",
       "    }\n",
       "\n",
       "    .dataframe tbody tr th {\n",
       "        vertical-align: top;\n",
       "    }\n",
       "\n",
       "    .dataframe thead th {\n",
       "        text-align: right;\n",
       "    }\n",
       "</style>\n",
       "<table border=\"1\" class=\"dataframe\">\n",
       "  <thead>\n",
       "    <tr style=\"text-align: right;\">\n",
       "      <th></th>\n",
       "      <th>fid</th>\n",
       "      <th>LINK_ID</th>\n",
       "      <th>LINK_MMLID</th>\n",
       "      <th>SEGM_ID</th>\n",
       "      <th>KUNTAKOODI</th>\n",
       "      <th>HALLINN_LK</th>\n",
       "      <th>TOIMINN_LK</th>\n",
       "      <th>LINKKITYYP</th>\n",
       "      <th>TIENUMERO</th>\n",
       "      <th>TIEOSANRO</th>\n",
       "      <th>...</th>\n",
       "      <th>KOR_TARK</th>\n",
       "      <th>ALKU_PAALU</th>\n",
       "      <th>LOPP_PAALU</th>\n",
       "      <th>GEOM_FLIP</th>\n",
       "      <th>LINK_TILA</th>\n",
       "      <th>GEOM_LAHDE</th>\n",
       "      <th>MTK_TIE_LK</th>\n",
       "      <th>NOPEUSRAJOITUSARVO</th>\n",
       "      <th>layer</th>\n",
       "      <th>path</th>\n",
       "    </tr>\n",
       "  </thead>\n",
       "  <tbody>\n",
       "    <tr>\n",
       "      <th>1</th>\n",
       "      <td>2</td>\n",
       "      <td>76939</td>\n",
       "      <td>5.841501e+07</td>\n",
       "      <td>18_1</td>\n",
       "      <td>18</td>\n",
       "      <td>3</td>\n",
       "      <td>6</td>\n",
       "      <td>3</td>\n",
       "      <td>0.0</td>\n",
       "      <td>0.0</td>\n",
       "      <td>...</td>\n",
       "      <td>201.0</td>\n",
       "      <td>0.0</td>\n",
       "      <td>81.333</td>\n",
       "      <td>1.0</td>\n",
       "      <td>0.0</td>\n",
       "      <td>1</td>\n",
       "      <td>12141</td>\n",
       "      <td>50.0</td>\n",
       "      <td>DR_LINKKI_K_3</td>\n",
       "      <td>C:/Users/koivistojp/Desktop/DR_NOPEUSRAJOTUKSE...</td>\n",
       "    </tr>\n",
       "    <tr>\n",
       "      <th>6</th>\n",
       "      <td>7</td>\n",
       "      <td>4388850</td>\n",
       "      <td>6.884633e+08</td>\n",
       "      <td>638_6</td>\n",
       "      <td>638</td>\n",
       "      <td>2</td>\n",
       "      <td>5</td>\n",
       "      <td>3</td>\n",
       "      <td>0.0</td>\n",
       "      <td>0.0</td>\n",
       "      <td>...</td>\n",
       "      <td>201.0</td>\n",
       "      <td>0.0</td>\n",
       "      <td>300.415</td>\n",
       "      <td>0.0</td>\n",
       "      <td>0.0</td>\n",
       "      <td>1</td>\n",
       "      <td>12131</td>\n",
       "      <td>40.0</td>\n",
       "      <td>DR_LINKKI_K_3</td>\n",
       "      <td>C:/Users/koivistojp/Desktop/DR_NOPEUSRAJOTUKSE...</td>\n",
       "    </tr>\n",
       "    <tr>\n",
       "      <th>13</th>\n",
       "      <td>14</td>\n",
       "      <td>4388851</td>\n",
       "      <td>5.581829e+07</td>\n",
       "      <td>638_13</td>\n",
       "      <td>638</td>\n",
       "      <td>2</td>\n",
       "      <td>5</td>\n",
       "      <td>3</td>\n",
       "      <td>0.0</td>\n",
       "      <td>0.0</td>\n",
       "      <td>...</td>\n",
       "      <td>201.0</td>\n",
       "      <td>0.0</td>\n",
       "      <td>299.413</td>\n",
       "      <td>0.0</td>\n",
       "      <td>0.0</td>\n",
       "      <td>1</td>\n",
       "      <td>12131</td>\n",
       "      <td>40.0</td>\n",
       "      <td>DR_LINKKI_K_3</td>\n",
       "      <td>C:/Users/koivistojp/Desktop/DR_NOPEUSRAJOTUKSE...</td>\n",
       "    </tr>\n",
       "    <tr>\n",
       "      <th>19</th>\n",
       "      <td>20</td>\n",
       "      <td>4388852</td>\n",
       "      <td>5.566444e+07</td>\n",
       "      <td>638_19</td>\n",
       "      <td>638</td>\n",
       "      <td>2</td>\n",
       "      <td>5</td>\n",
       "      <td>3</td>\n",
       "      <td>0.0</td>\n",
       "      <td>0.0</td>\n",
       "      <td>...</td>\n",
       "      <td>201.0</td>\n",
       "      <td>0.0</td>\n",
       "      <td>92.338</td>\n",
       "      <td>1.0</td>\n",
       "      <td>0.0</td>\n",
       "      <td>1</td>\n",
       "      <td>12131</td>\n",
       "      <td>40.0</td>\n",
       "      <td>DR_LINKKI_K_3</td>\n",
       "      <td>C:/Users/koivistojp/Desktop/DR_NOPEUSRAJOTUKSE...</td>\n",
       "    </tr>\n",
       "    <tr>\n",
       "      <th>20</th>\n",
       "      <td>21</td>\n",
       "      <td>4391876</td>\n",
       "      <td>1.053337e+09</td>\n",
       "      <td>638_20</td>\n",
       "      <td>638</td>\n",
       "      <td>1</td>\n",
       "      <td>4</td>\n",
       "      <td>3</td>\n",
       "      <td>11863.0</td>\n",
       "      <td>1.0</td>\n",
       "      <td>...</td>\n",
       "      <td>201.0</td>\n",
       "      <td>0.0</td>\n",
       "      <td>108.223</td>\n",
       "      <td>1.0</td>\n",
       "      <td>0.0</td>\n",
       "      <td>1</td>\n",
       "      <td>12122</td>\n",
       "      <td>80.0</td>\n",
       "      <td>DR_LINKKI_K_3</td>\n",
       "      <td>C:/Users/koivistojp/Desktop/DR_NOPEUSRAJOTUKSE...</td>\n",
       "    </tr>\n",
       "  </tbody>\n",
       "</table>\n",
       "<p>5 rows × 34 columns</p>\n",
       "</div>"
      ],
      "text/plain": [
       "    fid  LINK_ID    LINK_MMLID SEGM_ID  KUNTAKOODI  HALLINN_LK  TOIMINN_LK  \\\n",
       "1     2    76939  5.841501e+07    18_1          18           3           6   \n",
       "6     7  4388850  6.884633e+08   638_6         638           2           5   \n",
       "13   14  4388851  5.581829e+07  638_13         638           2           5   \n",
       "19   20  4388852  5.566444e+07  638_19         638           2           5   \n",
       "20   21  4391876  1.053337e+09  638_20         638           1           4   \n",
       "\n",
       "    LINKKITYYP  TIENUMERO  TIEOSANRO  \\\n",
       "1            3        0.0        0.0   \n",
       "6            3        0.0        0.0   \n",
       "13           3        0.0        0.0   \n",
       "19           3        0.0        0.0   \n",
       "20           3    11863.0        1.0   \n",
       "\n",
       "                          ...                          KOR_TARK  ALKU_PAALU  \\\n",
       "1                         ...                             201.0         0.0   \n",
       "6                         ...                             201.0         0.0   \n",
       "13                        ...                             201.0         0.0   \n",
       "19                        ...                             201.0         0.0   \n",
       "20                        ...                             201.0         0.0   \n",
       "\n",
       "    LOPP_PAALU  GEOM_FLIP  LINK_TILA GEOM_LAHDE MTK_TIE_LK  \\\n",
       "1       81.333        1.0        0.0          1      12141   \n",
       "6      300.415        0.0        0.0          1      12131   \n",
       "13     299.413        0.0        0.0          1      12131   \n",
       "19      92.338        1.0        0.0          1      12131   \n",
       "20     108.223        1.0        0.0          1      12122   \n",
       "\n",
       "    NOPEUSRAJOITUSARVO          layer  \\\n",
       "1                 50.0  DR_LINKKI_K_3   \n",
       "6                 40.0  DR_LINKKI_K_3   \n",
       "13                40.0  DR_LINKKI_K_3   \n",
       "19                40.0  DR_LINKKI_K_3   \n",
       "20                80.0  DR_LINKKI_K_3   \n",
       "\n",
       "                                                 path  \n",
       "1   C:/Users/koivistojp/Desktop/DR_NOPEUSRAJOTUKSE...  \n",
       "6   C:/Users/koivistojp/Desktop/DR_NOPEUSRAJOTUKSE...  \n",
       "13  C:/Users/koivistojp/Desktop/DR_NOPEUSRAJOTUKSE...  \n",
       "19  C:/Users/koivistojp/Desktop/DR_NOPEUSRAJOTUKSE...  \n",
       "20  C:/Users/koivistojp/Desktop/DR_NOPEUSRAJOTUKSE...  \n",
       "\n",
       "[5 rows x 34 columns]"
      ]
     },
     "metadata": {},
     "output_type": "display_data"
    }
   ],
   "source": [
    "display(X_raw.head())\n",
    "columns = X_raw.columns.values\n",
    "speedlimits = X_raw.NOPEUSRAJOITUSARVO.unique()\n",
    "speedlimit_counts = X_raw.NOPEUSRAJOITUSARVO.value_counts()"
   ]
  },
  {
   "cell_type": "code",
   "execution_count": 21,
   "metadata": {
    "scrolled": true
   },
   "outputs": [
    {
     "data": {
      "text/html": [
       "<div>\n",
       "<style scoped>\n",
       "    .dataframe tbody tr th:only-of-type {\n",
       "        vertical-align: middle;\n",
       "    }\n",
       "\n",
       "    .dataframe tbody tr th {\n",
       "        vertical-align: top;\n",
       "    }\n",
       "\n",
       "    .dataframe thead th {\n",
       "        text-align: right;\n",
       "    }\n",
       "</style>\n",
       "<table border=\"1\" class=\"dataframe\">\n",
       "  <thead>\n",
       "    <tr style=\"text-align: right;\">\n",
       "      <th></th>\n",
       "      <th>AJORATA</th>\n",
       "      <th>AJOSUUNTA</th>\n",
       "      <th>HALLINN_LK</th>\n",
       "      <th>TOIMINN_LK</th>\n",
       "      <th>LINKKITYYP</th>\n",
       "      <th>TIENUMERO</th>\n",
       "      <th>TIEOSANRO</th>\n",
       "      <th>MTK_TIE_LK</th>\n",
       "    </tr>\n",
       "  </thead>\n",
       "  <tbody>\n",
       "    <tr>\n",
       "      <th>1</th>\n",
       "      <td>0.0</td>\n",
       "      <td>2</td>\n",
       "      <td>3</td>\n",
       "      <td>6</td>\n",
       "      <td>3</td>\n",
       "      <td>0.0</td>\n",
       "      <td>0.0</td>\n",
       "      <td>12141</td>\n",
       "    </tr>\n",
       "    <tr>\n",
       "      <th>6</th>\n",
       "      <td>0.0</td>\n",
       "      <td>2</td>\n",
       "      <td>2</td>\n",
       "      <td>5</td>\n",
       "      <td>3</td>\n",
       "      <td>0.0</td>\n",
       "      <td>0.0</td>\n",
       "      <td>12131</td>\n",
       "    </tr>\n",
       "    <tr>\n",
       "      <th>13</th>\n",
       "      <td>0.0</td>\n",
       "      <td>2</td>\n",
       "      <td>2</td>\n",
       "      <td>5</td>\n",
       "      <td>3</td>\n",
       "      <td>0.0</td>\n",
       "      <td>0.0</td>\n",
       "      <td>12131</td>\n",
       "    </tr>\n",
       "    <tr>\n",
       "      <th>19</th>\n",
       "      <td>0.0</td>\n",
       "      <td>2</td>\n",
       "      <td>2</td>\n",
       "      <td>5</td>\n",
       "      <td>3</td>\n",
       "      <td>0.0</td>\n",
       "      <td>0.0</td>\n",
       "      <td>12131</td>\n",
       "    </tr>\n",
       "    <tr>\n",
       "      <th>20</th>\n",
       "      <td>0.0</td>\n",
       "      <td>2</td>\n",
       "      <td>1</td>\n",
       "      <td>4</td>\n",
       "      <td>3</td>\n",
       "      <td>11863.0</td>\n",
       "      <td>1.0</td>\n",
       "      <td>12122</td>\n",
       "    </tr>\n",
       "  </tbody>\n",
       "</table>\n",
       "</div>"
      ],
      "text/plain": [
       "    AJORATA  AJOSUUNTA  HALLINN_LK  TOIMINN_LK  LINKKITYYP  TIENUMERO  \\\n",
       "1       0.0          2           3           6           3        0.0   \n",
       "6       0.0          2           2           5           3        0.0   \n",
       "13      0.0          2           2           5           3        0.0   \n",
       "19      0.0          2           2           5           3        0.0   \n",
       "20      0.0          2           1           4           3    11863.0   \n",
       "\n",
       "    TIEOSANRO  MTK_TIE_LK  \n",
       "1         0.0       12141  \n",
       "6         0.0       12131  \n",
       "13        0.0       12131  \n",
       "19        0.0       12131  \n",
       "20        1.0       12122  "
      ]
     },
     "metadata": {},
     "output_type": "display_data"
    }
   ],
   "source": [
    "data_x = X_raw[['AJORATA', 'AJOSUUNTA', 'HALLINN_LK', \"TOIMINN_LK\", \"LINKKITYYP\", \"TIENUMERO\", \"TIEOSANRO\", \"MTK_TIE_LK\"]]\n",
    "data_y = X_raw[['NOPEUSRAJOITUSARVO']].astype(int)\n",
    "display(data_x.head())"
   ]
  },
  {
   "cell_type": "markdown",
   "metadata": {},
   "source": [
    "## Histogram"
   ]
  },
  {
   "cell_type": "code",
   "execution_count": 22,
   "metadata": {},
   "outputs": [
    {
     "data": {
      "image/png": "[encoded data removed]",
      "text/plain": [
       "<Figure size 432x288 with 1 Axes>"
      ]
     },
     "metadata": {
      "needs_background": "light"
     },
     "output_type": "display_data"
    }
   ],
   "source": [
    "a = np.array(data_y)\n",
    "plt.hist(a,bins = sorted(speedlimits))\n",
    "plt.title(\"Histogram\") \n",
    "plt.show()"
   ]
  },
  {
   "cell_type": "markdown",
   "metadata": {},
   "source": [
    "### 1. Scale\n",
    "### 2. Split into train and test sets\n",
    "### 3. Run logistic regression\n",
    "### 4. Compare prediction to correct labels"
   ]
  },
  {
   "cell_type": "code",
   "execution_count": 23,
   "metadata": {},
   "outputs": [
    {
     "name": "stderr",
     "output_type": "stream",
     "text": [
      "c:\\users\\koivistojp\\appdata\\local\\programs\\python\\python36-32\\lib\\site-packages\\sklearn\\preprocessing\\data.py:617: DataConversionWarning: Data with input dtype int64, float64 were all converted to float64 by StandardScaler.\n",
      "  return self.partial_fit(X, y)\n",
      "c:\\users\\koivistojp\\appdata\\local\\programs\\python\\python36-32\\lib\\site-packages\\sklearn\\base.py:462: DataConversionWarning: Data with input dtype int64, float64 were all converted to float64 by StandardScaler.\n",
      "  return self.fit(X, **fit_params).transform(X)\n",
      "c:\\users\\koivistojp\\appdata\\local\\programs\\python\\python36-32\\lib\\site-packages\\sklearn\\utils\\validation.py:752: DataConversionWarning: A column-vector y was passed when a 1d array was expected. Please change the shape of y to (n_samples, ), for example using ravel().\n",
      "  y = column_or_1d(y, warn=True)\n"
     ]
    },
    {
     "name": "stdout",
     "output_type": "stream",
     "text": [
      "Accuracy: 0.491756\n"
     ]
    }
   ],
   "source": [
    "X = StandardScaler().fit_transform(data_x)\n",
    "\n",
    "X_train, X_test, y_train, y_test = train_test_split(X, data_y, test_size=0.85)\n",
    "\n",
    "model = LogisticRegression(random_state=2, solver='lbfgs', multi_class='multinomial', max_iter=5000).fit(X_train, y_train)\n",
    "y_hat = model.predict(X_test)\n",
    "\n",
    "accuracy = accuracy_score(y_test, y_hat)\n",
    "print(\"Accuracy: {:.6f}\".format(accuracy))"
   ]
  },
  {
   "cell_type": "code",
   "execution_count": 45,
   "metadata": {},
   "outputs": [
    {
     "data": {
      "text/plain": [
       "<Figure size 432x288 with 0 Axes>"
      ]
     },
     "metadata": {},
     "output_type": "display_data"
    },
    {
     "data": {
      "image/png": "[encoded data removed]",
      "text/plain": [
       "<Figure size 720x720 with 2 Axes>"
      ]
     },
     "metadata": {
      "needs_background": "light"
     },
     "output_type": "display_data"
    }
   ],
   "source": [
    "def plot_confusion_matrix(cm, classes,\n",
    "                          normalize=False,\n",
    "                          title='Confusion matrix',\n",
    "                          cmap=plt.cm.Blues):\n",
    "\n",
    "    plt.imshow(cm, interpolation='nearest', cmap=cmap)\n",
    "    plt.title(title)\n",
    "    plt.colorbar()\n",
    "    tick_marks = np.arange(len(classes))\n",
    "    plt.xticks(tick_marks, classes, rotation=45)\n",
    "    plt.yticks(tick_marks, classes)\n",
    "\n",
    "    fmt = 'd'\n",
    "    thresh = cm.max() / 2.\n",
    "    for i, j in itertools.product(range(cm.shape[0]), range(cm.shape[1])):\n",
    "        plt.text(j, i, format(cm[i, j], fmt),\n",
    "                 horizontalalignment=\"center\",\n",
    "                 color=\"white\" if cm[i, j] > thresh else \"black\")\n",
    "\n",
    "    plt.ylabel('True label')\n",
    "    plt.xlabel('Predicted label')\n",
    "    plt.tight_layout()\n",
    "\n",
    "cnf_matrix = confusion_matrix(y_test, y_hat)\n",
    "\n",
    "plt.figure()\n",
    "plt.figure(figsize=(10,10))\n",
    "plot_confusion_matrix(cnf_matrix, classes=sorted(speedlimits),\n",
    "                      title='Confusion matrix, without normalization')"
   ]
  },
  {
   "cell_type": "code",
   "execution_count": null,
   "metadata": {},
   "outputs": [],
   "source": []
  }
 ],
 "metadata": {
  "kernelspec": {
   "display_name": "Python 3",
   "language": "python",
   "name": "python3"
  },
  "language_info": {
   "codemirror_mode": {
    "name": "ipython",
    "version": 3
   },
   "file_extension": ".py",
   "mimetype": "text/x-python",
   "name": "python",
   "nbconvert_exporter": "python",
   "pygments_lexer": "ipython3",
   "version": "3.6.5"
  }
 },
 "nbformat": 4,
 "nbformat_minor": 2
}
